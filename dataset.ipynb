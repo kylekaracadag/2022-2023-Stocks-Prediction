{
 "cells": [
  {
   "cell_type": "code",
   "execution_count": 1,
   "id": "e2579468",
   "metadata": {},
   "outputs": [
    {
     "ename": "ModuleNotFoundError",
     "evalue": "No module named 'yfinance'",
     "output_type": "error",
     "traceback": [
      "\u001b[1;31m---------------------------------------------------------------------------\u001b[0m",
      "\u001b[1;31mModuleNotFoundError\u001b[0m                       Traceback (most recent call last)",
      "Input \u001b[1;32mIn [1]\u001b[0m, in \u001b[0;36m<cell line: 1>\u001b[1;34m()\u001b[0m\n\u001b[1;32m----> 1\u001b[0m \u001b[38;5;28;01mimport\u001b[39;00m \u001b[38;5;21;01myfinance\u001b[39;00m \u001b[38;5;28;01mas\u001b[39;00m \u001b[38;5;21;01myf\u001b[39;00m\n\u001b[0;32m      2\u001b[0m \u001b[38;5;28;01mimport\u001b[39;00m \u001b[38;5;21;01mpandas\u001b[39;00m \u001b[38;5;28;01mas\u001b[39;00m \u001b[38;5;21;01mpd\u001b[39;00m\n\u001b[0;32m      3\u001b[0m \u001b[38;5;28;01mfrom\u001b[39;00m \u001b[38;5;21;01mdatetime\u001b[39;00m \u001b[38;5;28;01mimport\u001b[39;00m date, timedelta\n",
      "\u001b[1;31mModuleNotFoundError\u001b[0m: No module named 'yfinance'"
     ]
    }
   ],
   "source": [
    "import yfinance as yf\n",
    "import pandas as pd\n",
    "from datetime import date, timedelta"
   ]
  },
  {
   "cell_type": "code",
   "execution_count": null,
   "id": "316b96cf",
   "metadata": {},
   "outputs": [],
   "source": [
    "data = yf.download(tickers = \"MSFT\", period = \"7d\", interval = \"1m\")\n",
    "data"
   ]
  },
  {
   "cell_type": "code",
   "execution_count": null,
   "id": "12d5a67e",
   "metadata": {},
   "outputs": [],
   "source": [
    "# Specify start dates and end dates\n",
    "end_date = date.today()\n",
    "start_date = end_date - timedelta(days=29)\n",
    "\n",
    "print('start_date:', start_date)\n",
    "print('end_date:', end_date)\n",
    "\n",
    "# Start dates\n",
    "start_date_list = [start_date + timedelta(days=7*i) for i in range(5)]\n",
    "print('start_date_list:')\n",
    "print(start_date_list)\n",
    "\n",
    "# End dates\n",
    "end_date_list = [start_date_list[i+1] - timedelta(days=1) for i in range(4)] + [end_date]\n",
    "print('end_date_list:')\n",
    "print(end_date_list)\n",
    "\n",
    "print('===========================================================\\n')\n",
    "\n",
    "# Use for-loop to extract data\n",
    "df_1min = pd.DataFrame({})\n",
    "\n",
    "for idx in range(5):\n",
    "    data = yf.download(tickers=\"MSFT\", \n",
    "                       start=start_date_list[idx].strftime(\"%Y-%m-%d\"), \n",
    "                       end=end_date_list[idx].strftime(\"%Y-%m-%d\"), \n",
    "                       interval = \"1m\")\n",
    "    df_1min = df_1min.append(data)\n",
    "\n",
    "print(\"Data size: \" + str(df_1min.size))\n",
    "\n",
    "# Create a test csv file given a raw path string\n",
    "df_1min.to_csv(r\"STRING HERE\") "
   ]
  },
  {
   "cell_type": "code",
   "execution_count": null,
   "id": "de28008b-b648-46b5-b2da-cff1c73cd3a5",
   "metadata": {},
   "outputs": [],
   "source": []
  }
 ],
 "metadata": {
  "kernelspec": {
   "display_name": "Python 3 (ipykernel)",
   "language": "python",
   "name": "python3"
  },
  "language_info": {
   "codemirror_mode": {
    "name": "ipython",
    "version": 3
   },
   "file_extension": ".py",
   "mimetype": "text/x-python",
   "name": "python",
   "nbconvert_exporter": "python",
   "pygments_lexer": "ipython3",
   "version": "3.10.0"
  },
  "vscode": {
   "interpreter": {
    "hash": "2711d530959f26019c975a57a64a7b4a29e1c2b9bdd7341b03a02057f2c34a89"
   }
  }
 },
 "nbformat": 4,
 "nbformat_minor": 5
}
