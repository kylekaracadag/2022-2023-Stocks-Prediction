{
 "cells": [
  {
   "cell_type": "code",
   "execution_count": 3,
   "id": "ff050167",
   "metadata": {},
   "outputs": [],
   "source": [
    "import math\n",
    "import matplotlib.pyplot as plt\n",
    "import keras\n",
    "import pandas as pd\n",
    "import numpy as np\n",
    "from keras.models import Sequential\n",
    "from keras.layers import Dense\n",
    "from keras.layers import LSTM\n",
    "from keras.layers import Dropout\n",
    "from keras.layers import *\n",
    "from sklearn.preprocessing import MinMaxScaler\n",
    "from sklearn.metrics import mean_squared_error\n",
    "from sklearn.metrics import mean_absolute_error\n",
    "from sklearn.model_selection import train_test_split\n",
    "from keras.callbacks import EarlyStopping\n",
    "from datetime import date, timedelta"
   ]
  },
  {
   "cell_type": "code",
   "execution_count": 38,
   "id": "f5ecbb12",
   "metadata": {},
   "outputs": [
    {
     "name": "stdout",
     "output_type": "stream",
     "text": [
      "Number of rows and columns: (7779, 7)\n"
     ]
    }
   ],
   "source": [
    "df = pd.read_csv(\"dataset (MSFT).csv\")\n",
    "print(\"Number of rows and columns:\", df.shape)\n",
    "# df.tail(5)"
   ]
  },
  {
   "cell_type": "code",
   "execution_count": 39,
   "id": "4f5747bd",
   "metadata": {},
   "outputs": [
    {
     "name": "stdout",
     "output_type": "stream",
     "text": [
      "                     Unnamed: 0        Open        High         Low  \\\n",
      "7759  2022-10-14 15:40:00-04:00  230.029999  230.080002  229.970001   \n",
      "7760  2022-10-14 15:41:00-04:00  229.979996  229.979996  229.740005   \n",
      "7761  2022-10-14 15:42:00-04:00  229.869995  230.059998  229.750000   \n",
      "7762  2022-10-14 15:43:00-04:00  229.942398  230.009995  229.770004   \n",
      "7763  2022-10-14 15:44:00-04:00  229.910004  230.080002  229.880005   \n",
      "7764  2022-10-14 15:45:00-04:00  230.029999  230.029999  229.720001   \n",
      "7765  2022-10-14 15:46:00-04:00  229.729996  229.860001  229.684998   \n",
      "7766  2022-10-14 15:47:00-04:00  229.779999  229.800003  229.490005   \n",
      "7767  2022-10-14 15:48:00-04:00  229.500000  229.619995  229.399994   \n",
      "7768  2022-10-14 15:49:00-04:00  229.589996  229.820007  229.470001   \n",
      "7769  2022-10-14 15:50:00-04:00  229.759995  230.139999  229.759995   \n",
      "7770  2022-10-14 15:51:00-04:00  230.089996  230.130005  229.779999   \n",
      "7771  2022-10-14 15:52:00-04:00  229.779999  230.029999  229.750000   \n",
      "7772  2022-10-14 15:53:00-04:00  229.880005  230.000000  229.809998   \n",
      "7773  2022-10-14 15:54:00-04:00  229.949997  230.059998  229.110001   \n",
      "7774  2022-10-14 15:55:00-04:00  229.600006  229.619995  229.005005   \n",
      "7775  2022-10-14 15:56:00-04:00  229.000000  229.240005  228.899994   \n",
      "7776  2022-10-14 15:57:00-04:00  228.899994  228.970001  228.520096   \n",
      "7777  2022-10-14 15:58:00-04:00  228.570007  228.639999  228.399994   \n",
      "7778  2022-10-14 15:59:00-04:00  228.500000  229.009995  228.339996   \n",
      "\n",
      "           Close   Adj Close     Volume  \n",
      "7759  230.005005  230.005005    56703.0  \n",
      "7760  229.880005  229.880005    58202.0  \n",
      "7761  229.940002  229.940002    65543.0  \n",
      "7762  229.916199  229.916199    47503.0  \n",
      "7763  230.009995  230.009995    48868.0  \n",
      "7764  229.720001  229.720001    54487.0  \n",
      "7765  229.779999  229.779999    61996.0  \n",
      "7766  229.497696  229.497696    81545.0  \n",
      "7767  229.570007  229.570007    72065.0  \n",
      "7768  229.710007  229.710007   108788.0  \n",
      "7769  230.080002  230.080002   168977.0  \n",
      "7770  229.779999  229.779999    96648.0  \n",
      "7771  229.899994  229.899994   128591.0  \n",
      "7772  229.960007  229.960007   118354.0  \n",
      "7773  229.619995  229.619995   343029.0  \n",
      "7774  229.009995  229.009995   378384.0  \n",
      "7775  228.899994  228.899994   266647.0  \n",
      "7776  228.570007  228.570007   374690.0  \n",
      "7777  228.500000  228.500000   391224.0  \n",
      "7778  228.580002  228.580002  1253481.0  \n"
     ]
    }
   ],
   "source": [
    "df = df.tail(20)\n",
    "print(df)"
   ]
  },
  {
   "cell_type": "code",
   "execution_count": 40,
   "id": "5bc764df",
   "metadata": {},
   "outputs": [
    {
     "data": {
      "image/png": "[encoded data removed]",
      "text/plain": [
       "<Figure size 640x480 with 1 Axes>"
      ]
     },
     "metadata": {},
     "output_type": "display_data"
    }
   ],
   "source": [
    "plt.figure()\n",
    "\n",
    "#define width of candlestick elements\n",
    "width = .4\n",
    "width2 = .05\n",
    "\n",
    "#define up and down prices\n",
    "up = df[df.Close>=df.Open]\n",
    "down = df[df.Close<df.Open]\n",
    "\n",
    "#define colors to use\n",
    "col1 = 'green'\n",
    "col2 = 'red'\n",
    "\n",
    "#plot up prices\n",
    "plt.bar(up.index,up.Close-up.Open,width,bottom=up.Open,color=col1)\n",
    "plt.bar(up.index,up.High-up.Close,width2,bottom=up.Close,color=col1)\n",
    "plt.bar(up.index,up.Low-up.Open,width2,bottom=up.Open,color=col1)\n",
    "\n",
    "#plot down prices\n",
    "plt.bar(down.index,down.Close-down.Open,width,bottom=down.Open,color=col2)\n",
    "plt.bar(down.index,down.High-down.Open,width2,bottom=down.Open,color=col2)\n",
    "plt.bar(down.index,down.Low-down.Close,width2,bottom=down.Close,color=col2)\n",
    "\n",
    "#rotate x-axis tick labels\n",
    "plt.xticks(rotation=45, ha='right')\n",
    "\n",
    "#display candlestick chart\n",
    "plt.show()"
   ]
  },
  {
   "cell_type": "code",
   "execution_count": null,
   "id": "d53171f6",
   "metadata": {},
   "outputs": [],
   "source": []
  }
 ],
 "metadata": {
  "kernelspec": {
   "display_name": "Python 3 (ipykernel)",
   "language": "python",
   "name": "python3"
  },
  "language_info": {
   "codemirror_mode": {
    "name": "ipython",
    "version": 3
   },
   "file_extension": ".py",
   "mimetype": "text/x-python",
   "name": "python",
   "nbconvert_exporter": "python",
   "pygments_lexer": "ipython3",
   "version": "3.9.12"
  }
 },
 "nbformat": 4,
 "nbformat_minor": 5
}
