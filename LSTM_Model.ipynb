{
 "cells": [
  {
   "cell_type": "code",
   "execution_count": 1,
   "id": "4680488b",
   "metadata": {},
   "outputs": [],
   "source": [
    "import math\n",
    "import matplotlib.pyplot as plt\n",
    "import keras\n",
    "import pandas as pd\n",
    "import numpy as np\n",
    "import ipywidgets as widgets\n",
    "from keras.models import Sequential\n",
    "from keras.layers import Dense\n",
    "from keras.layers import LSTM\n",
    "from keras.layers import Dropout\n",
    "from keras.layers import *\n",
    "from sklearn.preprocessing import MinMaxScaler\n",
    "from sklearn.metrics import mean_squared_error\n",
    "from sklearn.metrics import mean_absolute_error\n",
    "from sklearn.model_selection import train_test_split\n",
    "from keras.callbacks import EarlyStopping"
   ]
  },
  {
   "cell_type": "code",
   "execution_count": 2,
   "id": "2ff12fa6",
   "metadata": {},
   "outputs": [
    {
     "name": "stdout",
     "output_type": "stream",
     "text": [
      "Number of rows and columns: (7779, 7)\n"
     ]
    },
    {
     "data": {
      "text/html": [
       "<div>\n",
       "<style scoped>\n",
       "    .dataframe tbody tr th:only-of-type {\n",
       "        vertical-align: middle;\n",
       "    }\n",
       "\n",
       "    .dataframe tbody tr th {\n",
       "        vertical-align: top;\n",
       "    }\n",
       "\n",
       "    .dataframe thead th {\n",
       "        text-align: right;\n",
       "    }\n",
       "</style>\n",
       "<table border=\"1\" class=\"dataframe\">\n",
       "  <thead>\n",
       "    <tr style=\"text-align: right;\">\n",
       "      <th></th>\n",
       "      <th>Unnamed: 0</th>\n",
       "      <th>Open</th>\n",
       "      <th>High</th>\n",
       "      <th>Low</th>\n",
       "      <th>Close</th>\n",
       "      <th>Adj Close</th>\n",
       "      <th>Volume</th>\n",
       "    </tr>\n",
       "  </thead>\n",
       "  <tbody>\n",
       "    <tr>\n",
       "      <th>0</th>\n",
       "      <td>2022-09-19 09:30:00-04:00</td>\n",
       "      <td>242.464996</td>\n",
       "      <td>242.479996</td>\n",
       "      <td>242.000000</td>\n",
       "      <td>242.136002</td>\n",
       "      <td>242.136002</td>\n",
       "      <td>677274.0</td>\n",
       "    </tr>\n",
       "    <tr>\n",
       "      <th>1</th>\n",
       "      <td>2022-09-19 09:31:00-04:00</td>\n",
       "      <td>242.190002</td>\n",
       "      <td>242.589996</td>\n",
       "      <td>242.100006</td>\n",
       "      <td>242.544998</td>\n",
       "      <td>242.544998</td>\n",
       "      <td>81735.0</td>\n",
       "    </tr>\n",
       "    <tr>\n",
       "      <th>2</th>\n",
       "      <td>2022-09-19 09:32:00-04:00</td>\n",
       "      <td>242.315002</td>\n",
       "      <td>242.519104</td>\n",
       "      <td>242.190094</td>\n",
       "      <td>242.464996</td>\n",
       "      <td>242.464996</td>\n",
       "      <td>178308.0</td>\n",
       "    </tr>\n",
       "    <tr>\n",
       "      <th>3</th>\n",
       "      <td>2022-09-19 09:33:00-04:00</td>\n",
       "      <td>242.479996</td>\n",
       "      <td>242.615005</td>\n",
       "      <td>242.229996</td>\n",
       "      <td>242.399994</td>\n",
       "      <td>242.399994</td>\n",
       "      <td>22108.0</td>\n",
       "    </tr>\n",
       "    <tr>\n",
       "      <th>4</th>\n",
       "      <td>2022-09-19 09:34:00-04:00</td>\n",
       "      <td>242.169998</td>\n",
       "      <td>242.589798</td>\n",
       "      <td>242.169998</td>\n",
       "      <td>242.361206</td>\n",
       "      <td>242.361206</td>\n",
       "      <td>148771.0</td>\n",
       "    </tr>\n",
       "  </tbody>\n",
       "</table>\n",
       "</div>"
      ],
      "text/plain": [
       "                  Unnamed: 0        Open        High         Low       Close  \\\n",
       "0  2022-09-19 09:30:00-04:00  242.464996  242.479996  242.000000  242.136002   \n",
       "1  2022-09-19 09:31:00-04:00  242.190002  242.589996  242.100006  242.544998   \n",
       "2  2022-09-19 09:32:00-04:00  242.315002  242.519104  242.190094  242.464996   \n",
       "3  2022-09-19 09:33:00-04:00  242.479996  242.615005  242.229996  242.399994   \n",
       "4  2022-09-19 09:34:00-04:00  242.169998  242.589798  242.169998  242.361206   \n",
       "\n",
       "    Adj Close    Volume  \n",
       "0  242.136002  677274.0  \n",
       "1  242.544998   81735.0  \n",
       "2  242.464996  178308.0  \n",
       "3  242.399994   22108.0  \n",
       "4  242.361206  148771.0  "
      ]
     },
     "execution_count": 2,
     "metadata": {},
     "output_type": "execute_result"
    }
   ],
   "source": [
    "df = pd.read_csv(\"dataset (MSFT).csv\")\n",
    "print(\"Number of rows and columns:\", df.shape)\n",
    "df.head(5)"
   ]
  },
  {
   "cell_type": "code",
   "execution_count": 3,
   "id": "49abeb9e",
   "metadata": {},
   "outputs": [],
   "source": [
    "training_set = df.iloc[:5446, 4:5].values\n",
    "test_set = df.iloc[5446:, 4:5].values"
   ]
  },
  {
   "cell_type": "code",
   "execution_count": 4,
   "id": "8d3c71de",
   "metadata": {},
   "outputs": [
    {
     "data": {
      "text/plain": [
       "(5386, 60, 1)"
      ]
     },
     "execution_count": 4,
     "metadata": {},
     "output_type": "execute_result"
    }
   ],
   "source": [
    "# Feature Scaling\n",
    "sc = MinMaxScaler(feature_range = (0, 1))\n",
    "training_set_scaled = sc.fit_transform(training_set)\n",
    "# Creating a data structure with 60 time-steps and 1 output\n",
    "X_train = []\n",
    "y_train = []\n",
    "for i in range(60, 5446):\n",
    "    X_train.append(training_set_scaled[i-60:i, 0])\n",
    "    y_train.append(training_set_scaled[i, 0])\n",
    "X_train, y_train = np.array(X_train), np.array(y_train)\n",
    "X_train = np.reshape(X_train, (X_train.shape[0], X_train.shape[1], 1))\n",
    "#(840, 60, 1)\n",
    "X_train.shape"
   ]
  },
  {
   "cell_type": "code",
   "execution_count": 5,
   "id": "f8542554",
   "metadata": {},
   "outputs": [
    {
     "name": "stdout",
     "output_type": "stream",
     "text": [
      "169/169 [==============================] - 63s 242ms/step - loss: 0.0117\n"
     ]
    },
    {
     "data": {
      "text/plain": [
       "<keras.callbacks.History at 0x196c6e25a00>"
      ]
     },
     "execution_count": 5,
     "metadata": {},
     "output_type": "execute_result"
    }
   ],
   "source": [
    "model = Sequential()\n",
    "#Adding the first LSTM layer and some Dropout regularisation\n",
    "model.add(LSTM(units = 50, return_sequences = True, input_shape = (X_train.shape[1], 1)))\n",
    "model.add(Dropout(0.2))\n",
    "# Adding a second LSTM layer and some Dropout regularisation\n",
    "model.add(LSTM(units = 50, return_sequences = True))\n",
    "model.add(Dropout(0.2))\n",
    "# Adding a third LSTM layer and some Dropout regularisation\n",
    "model.add(LSTM(units = 50, return_sequences = True))\n",
    "model.add(Dropout(0.2))\n",
    "# Adding a fourth LSTM layer and some Dropout regularisation\n",
    "model.add(LSTM(units = 50))\n",
    "model.add(Dropout(0.2))\n",
    "# Adding the output layer\n",
    "model.add(Dense(units = 1))\n",
    "\n",
    "# Compiling the RNN\n",
    "model.compile(optimizer = 'adam', loss = 'mean_squared_error')\n",
    "\n",
    "# Fitting the RNN to the Training set\n",
    "model.fit(X_train, y_train, epochs = 1, batch_size = 32)"
   ]
  },
  {
   "cell_type": "code",
   "execution_count": 16,
   "id": "cca6fd4d",
   "metadata": {},
   "outputs": [
    {
     "name": "stdout",
     "output_type": "stream",
     "text": [
      "(2333, 60, 1)\n"
     ]
    },
    {
     "data": {
      "text/plain": [
       "(2333, 60, 1)"
      ]
     },
     "execution_count": 16,
     "metadata": {},
     "output_type": "execute_result"
    }
   ],
   "source": [
    "# Getting the predicted stock price of 2017\n",
    "dataset_train = df.iloc[:5446, 1:2]\n",
    "dataset_test = df.iloc[5446:, 1:2]\n",
    "dataset_total = pd.concat((dataset_train, dataset_test), axis = 0)\n",
    "inputs = dataset_total[len(dataset_total) - len(dataset_test) - 60:].values\n",
    "inputs = inputs.reshape(-1,1)\n",
    "inputs = sc.transform(inputs)\n",
    "X_test = []\n",
    "for i in range(60, 2393):\n",
    "    X_test.append(inputs[i-60:i, 0])\n",
    "X_test = np.array(X_test)\n",
    "X_test = np.reshape(X_test, (X_test.shape[0], X_test.shape[1], 1))\n",
    "print(X_test.shape)\n",
    "# (300, 60, 1)\n",
    "X_test.shape"
   ]
  },
  {
   "cell_type": "code",
   "execution_count": 34,
   "id": "6dcf8c44",
   "metadata": {},
   "outputs": [
    {
     "name": "stdout",
     "output_type": "stream",
     "text": [
      "73/73 [==============================] - 3s 40ms/step\n"
     ]
    }
   ],
   "source": [
    "predicted_stock_price = model.predict(X_test)\n",
    "predicted_stock_price = sc.inverse_transform(predicted_stock_price)"
   ]
  },
  {
   "cell_type": "code",
   "execution_count": 42,
   "id": "4bc8cf82",
   "metadata": {},
   "outputs": [
    {
     "data": {
      "application/vnd.jupyter.widget-view+json": {
       "model_id": "499240751d324418a7acb2188fc7aa92",
       "version_major": 2,
       "version_minor": 0
      },
      "text/plain": [
       "interactive(children=(Dropdown(description='Real', options=('red', 'blue', 'green', 'yellow'), value='red'), D…"
      ]
     },
     "metadata": {},
     "output_type": "display_data"
    },
    {
     "data": {
      "text/plain": [
       "<function __main__.f(Real, Predicted)>"
      ]
     },
     "execution_count": 42,
     "metadata": {},
     "output_type": "execute_result"
    }
   ],
   "source": [
    "# Visualising the results\n",
    "#STEPS TO FINISH THIS BRANCH\n",
    "# 1) Add ability to go from 1 year out to 2 years out to 5 years.\n",
    "# 2) Add ability to train new stocks, or display \n",
    "\n",
    "\n",
    "#Custom function with custom name, sets the color of the graphs before they are displayed.\n",
    "def ChangeColor(Real, Predicted):\n",
    "    plt.plot(df.loc[5446:, 'Unnamed: 0'],dataset_test.values, color = Real, label = 'Real Microsoft Stock Price')\n",
    "    plt.plot(df.loc[5446:, 'Unnamed: 0'],predicted_stock_price, color = Predicted, label = 'Predicted Microsoft Stock Price')\n",
    "    plt.xticks(np.arange(0,459,50))\n",
    "    plt.title('Microsoft Stock Price Prediction')\n",
    "    plt.xlabel('Time')\n",
    "    plt.ylabel('Microsoft Stock Price')\n",
    "    plt.legend()\n",
    "    plt.show()\n",
    "\n",
    "#Interact automatically creates the widget that it is formated for. In this case it automatically creates two dropdowns for the x and y variables and then passes them into function f.\n",
    "widgets.interact(f, Real=['red', 'blue', 'green', 'yellow'], Predicted=['red', 'blue', 'green', 'yellow'])\n"
   ]
  },
  {
   "cell_type": "code",
   "execution_count": null,
   "id": "a465ed73",
   "metadata": {},
   "outputs": [],
   "source": [
    "#predicted_prices_df =pd.DataFrame(predicted_stock_price, columns = ['Price'])\n",
    "#predicted_prices_df.to_csv (r'C:\\Users\\kayra\\OneDrive\\Desktop\\Stonks 2022\\2022-2023-Stocks-Prediction\\Predictions\\Close Price Prediction.csv', index = False, header=True)"
   ]
  },
  {
   "cell_type": "code",
   "execution_count": null,
   "id": "e8327c04",
   "metadata": {},
   "outputs": [],
   "source": []
  }
 ],
 "metadata": {
  "kernelspec": {
   "display_name": "Python 3 (ipykernel)",
   "language": "python",
   "name": "python3"
  },
  "language_info": {
   "codemirror_mode": {
    "name": "ipython",
    "version": 3
   },
   "file_extension": ".py",
   "mimetype": "text/x-python",
   "name": "python",
   "nbconvert_exporter": "python",
   "pygments_lexer": "ipython3",
   "version": "3.9.12"
  }
 },
 "nbformat": 4,
 "nbformat_minor": 5
}
