{
 "cells": [
  {
   "cell_type": "code",
   "execution_count": 1,
   "id": "4680488b",
   "metadata": {},
   "outputs": [],
   "source": [
    "import math\n",
    "import matplotlib.pyplot as plt\n",
    "import keras\n",
    "import pandas as pd\n",
    "import numpy as np\n",
    "import ipywidgets as widgets\n",
    "from keras.models import Sequential\n",
    "from keras.layers import Dense\n",
    "from keras.layers import LSTM\n",
    "from keras.layers import Dropout\n",
    "from keras.layers import *\n",
    "from sklearn.preprocessing import MinMaxScaler\n",
    "from sklearn.metrics import mean_squared_error\n",
    "from sklearn.metrics import mean_absolute_error\n",
    "from sklearn.model_selection import train_test_split\n",
    "from keras.callbacks import EarlyStopping"
   ]
  },
  {
   "cell_type": "code",
   "execution_count": 2,
   "id": "2ff12fa6",
   "metadata": {},
   "outputs": [
    {
     "name": "stdout",
     "output_type": "stream",
     "text": [
      "Number of rows and columns: (7779, 7)\n"
     ]
    },
    {
     "data": {
      "text/html": [
       "<div>\n",
       "<style scoped>\n",
       "    .dataframe tbody tr th:only-of-type {\n",
       "        vertical-align: middle;\n",
       "    }\n",
       "\n",
       "    .dataframe tbody tr th {\n",
       "        vertical-align: top;\n",
       "    }\n",
       "\n",
       "    .dataframe thead th {\n",
       "        text-align: right;\n",
       "    }\n",
       "</style>\n",
       "<table border=\"1\" class=\"dataframe\">\n",
       "  <thead>\n",
       "    <tr style=\"text-align: right;\">\n",
       "      <th></th>\n",
       "      <th>Unnamed: 0</th>\n",
       "      <th>Open</th>\n",
       "      <th>High</th>\n",
       "      <th>Low</th>\n",
       "      <th>Close</th>\n",
       "      <th>Adj Close</th>\n",
       "      <th>Volume</th>\n",
       "    </tr>\n",
       "  </thead>\n",
       "  <tbody>\n",
       "    <tr>\n",
       "      <th>0</th>\n",
       "      <td>2022-09-19 09:30:00-04:00</td>\n",
       "      <td>242.464996</td>\n",
       "      <td>242.479996</td>\n",
       "      <td>242.000000</td>\n",
       "      <td>242.136002</td>\n",
       "      <td>242.136002</td>\n",
       "      <td>677274.0</td>\n",
       "    </tr>\n",
       "    <tr>\n",
       "      <th>1</th>\n",
       "      <td>2022-09-19 09:31:00-04:00</td>\n",
       "      <td>242.190002</td>\n",
       "      <td>242.589996</td>\n",
       "      <td>242.100006</td>\n",
       "      <td>242.544998</td>\n",
       "      <td>242.544998</td>\n",
       "      <td>81735.0</td>\n",
       "    </tr>\n",
       "    <tr>\n",
       "      <th>2</th>\n",
       "      <td>2022-09-19 09:32:00-04:00</td>\n",
       "      <td>242.315002</td>\n",
       "      <td>242.519104</td>\n",
       "      <td>242.190094</td>\n",
       "      <td>242.464996</td>\n",
       "      <td>242.464996</td>\n",
       "      <td>178308.0</td>\n",
       "    </tr>\n",
       "    <tr>\n",
       "      <th>3</th>\n",
       "      <td>2022-09-19 09:33:00-04:00</td>\n",
       "      <td>242.479996</td>\n",
       "      <td>242.615005</td>\n",
       "      <td>242.229996</td>\n",
       "      <td>242.399994</td>\n",
       "      <td>242.399994</td>\n",
       "      <td>22108.0</td>\n",
       "    </tr>\n",
       "    <tr>\n",
       "      <th>4</th>\n",
       "      <td>2022-09-19 09:34:00-04:00</td>\n",
       "      <td>242.169998</td>\n",
       "      <td>242.589798</td>\n",
       "      <td>242.169998</td>\n",
       "      <td>242.361206</td>\n",
       "      <td>242.361206</td>\n",
       "      <td>148771.0</td>\n",
       "    </tr>\n",
       "  </tbody>\n",
       "</table>\n",
       "</div>"
      ],
      "text/plain": [
       "                  Unnamed: 0        Open        High         Low       Close  \\\n",
       "0  2022-09-19 09:30:00-04:00  242.464996  242.479996  242.000000  242.136002   \n",
       "1  2022-09-19 09:31:00-04:00  242.190002  242.589996  242.100006  242.544998   \n",
       "2  2022-09-19 09:32:00-04:00  242.315002  242.519104  242.190094  242.464996   \n",
       "3  2022-09-19 09:33:00-04:00  242.479996  242.615005  242.229996  242.399994   \n",
       "4  2022-09-19 09:34:00-04:00  242.169998  242.589798  242.169998  242.361206   \n",
       "\n",
       "    Adj Close    Volume  \n",
       "0  242.136002  677274.0  \n",
       "1  242.544998   81735.0  \n",
       "2  242.464996  178308.0  \n",
       "3  242.399994   22108.0  \n",
       "4  242.361206  148771.0  "
      ]
     },
     "execution_count": 2,
     "metadata": {},
     "output_type": "execute_result"
    }
   ],
   "source": [
    "df = pd.read_csv(\"dataset (MSFT).csv\")\n",
    "print(\"Number of rows and columns:\", df.shape)\n",
    "df.head(5)"
   ]
  },
  {
   "cell_type": "code",
   "execution_count": 3,
   "id": "49abeb9e",
   "metadata": {},
   "outputs": [],
   "source": [
    "training_set = df.iloc[:5446, 4:5].values\n",
    "test_set = df.iloc[5446:, 4:5].values"
   ]
  },
  {
   "cell_type": "code",
   "execution_count": 4,
   "id": "8d3c71de",
   "metadata": {},
   "outputs": [
    {
     "data": {
      "text/plain": [
       "(5386, 60, 1)"
      ]
     },
     "execution_count": 4,
     "metadata": {},
     "output_type": "execute_result"
    }
   ],
   "source": [
    "# Feature Scaling\n",
    "sc = MinMaxScaler(feature_range = (0, 1))\n",
    "training_set_scaled = sc.fit_transform(training_set)\n",
    "# Creating a data structure with 60 time-steps and 1 output\n",
    "X_train = []\n",
    "y_train = []\n",
    "for i in range(60, 5446):\n",
    "    X_train.append(training_set_scaled[i-60:i, 0])\n",
    "    y_train.append(training_set_scaled[i, 0])\n",
    "X_train, y_train = np.array(X_train), np.array(y_train)\n",
    "X_train = np.reshape(X_train, (X_train.shape[0], X_train.shape[1], 1))\n",
    "#(840, 60, 1)\n",
    "X_train.shape"
   ]
  },
  {
   "cell_type": "code",
   "execution_count": 5,
   "id": "f8542554",
   "metadata": {},
   "outputs": [
    {
     "name": "stdout",
     "output_type": "stream",
     "text": [
      "Epoch 1/100\n",
      "169/169 [==============================] - 63s 215ms/step - loss: 0.0132\n",
      "Epoch 2/100\n",
      "169/169 [==============================] - 38s 224ms/step - loss: 0.0042\n",
      "Epoch 3/100\n",
      "169/169 [==============================] - 41s 242ms/step - loss: 0.0040\n",
      "Epoch 4/100\n",
      "169/169 [==============================] - 40s 236ms/step - loss: 0.0032\n",
      "Epoch 5/100\n",
      "169/169 [==============================] - 40s 236ms/step - loss: 0.0030\n",
      "Epoch 6/100\n",
      "169/169 [==============================] - 41s 242ms/step - loss: 0.0029\n",
      "Epoch 7/100\n",
      "169/169 [==============================] - 40s 239ms/step - loss: 0.0025\n",
      "Epoch 8/100\n",
      "169/169 [==============================] - 40s 238ms/step - loss: 0.0024\n",
      "Epoch 9/100\n",
      "169/169 [==============================] - 40s 235ms/step - loss: 0.0022\n",
      "Epoch 10/100\n",
      "169/169 [==============================] - 43s 252ms/step - loss: 0.0021\n",
      "Epoch 11/100\n",
      "169/169 [==============================] - 41s 241ms/step - loss: 0.0021\n",
      "Epoch 12/100\n",
      "169/169 [==============================] - 42s 251ms/step - loss: 0.0018\n",
      "Epoch 13/100\n",
      "169/169 [==============================] - 47s 277ms/step - loss: 0.0019\n",
      "Epoch 14/100\n",
      "169/169 [==============================] - 41s 242ms/step - loss: 0.0017\n",
      "Epoch 15/100\n",
      "169/169 [==============================] - 41s 242ms/step - loss: 0.0017\n",
      "Epoch 16/100\n",
      "169/169 [==============================] - 41s 242ms/step - loss: 0.0016\n",
      "Epoch 17/100\n",
      "169/169 [==============================] - 40s 238ms/step - loss: 0.0015\n",
      "Epoch 18/100\n",
      "169/169 [==============================] - 41s 240ms/step - loss: 0.0015\n",
      "Epoch 19/100\n",
      "169/169 [==============================] - 40s 239ms/step - loss: 0.0014\n",
      "Epoch 20/100\n",
      "169/169 [==============================] - 41s 244ms/step - loss: 0.0013\n",
      "Epoch 21/100\n",
      "169/169 [==============================] - 45s 264ms/step - loss: 0.0013\n",
      "Epoch 22/100\n",
      "169/169 [==============================] - 42s 251ms/step - loss: 0.0013\n",
      "Epoch 23/100\n",
      "169/169 [==============================] - 41s 241ms/step - loss: 0.0013\n",
      "Epoch 24/100\n",
      "169/169 [==============================] - 57s 340ms/step - loss: 0.0011\n",
      "Epoch 25/100\n",
      "169/169 [==============================] - 45s 264ms/step - loss: 0.0011\n",
      "Epoch 26/100\n",
      "169/169 [==============================] - 40s 235ms/step - loss: 0.0011\n",
      "Epoch 27/100\n",
      "169/169 [==============================] - 40s 237ms/step - loss: 0.0010\n",
      "Epoch 28/100\n",
      "169/169 [==============================] - 40s 237ms/step - loss: 0.0011\n",
      "Epoch 29/100\n",
      "169/169 [==============================] - 44s 263ms/step - loss: 9.6886e-04\n",
      "Epoch 30/100\n",
      "169/169 [==============================] - 43s 254ms/step - loss: 0.0010\n",
      "Epoch 31/100\n",
      "169/169 [==============================] - 44s 260ms/step - loss: 0.0010\n",
      "Epoch 32/100\n",
      "169/169 [==============================] - 43s 253ms/step - loss: 9.0848e-04\n",
      "Epoch 33/100\n",
      "169/169 [==============================] - 41s 244ms/step - loss: 9.2788e-04\n",
      "Epoch 34/100\n",
      "169/169 [==============================] - 42s 246ms/step - loss: 9.5756e-04\n",
      "Epoch 35/100\n",
      "169/169 [==============================] - 40s 236ms/step - loss: 8.8012e-04\n",
      "Epoch 36/100\n",
      "169/169 [==============================] - 40s 236ms/step - loss: 8.9356e-04\n",
      "Epoch 37/100\n",
      "169/169 [==============================] - 43s 253ms/step - loss: 8.9624e-04\n",
      "Epoch 38/100\n",
      "169/169 [==============================] - 62s 369ms/step - loss: 8.1134e-04\n",
      "Epoch 39/100\n",
      "169/169 [==============================] - 49s 289ms/step - loss: 8.7429e-04\n",
      "Epoch 40/100\n",
      "169/169 [==============================] - 45s 263ms/step - loss: 8.3541e-04\n",
      "Epoch 41/100\n",
      "169/169 [==============================] - 43s 252ms/step - loss: 8.2887e-04\n",
      "Epoch 42/100\n",
      "169/169 [==============================] - 44s 259ms/step - loss: 8.3517e-04\n",
      "Epoch 43/100\n",
      "169/169 [==============================] - 43s 254ms/step - loss: 8.1507e-04\n",
      "Epoch 44/100\n",
      "169/169 [==============================] - 42s 250ms/step - loss: 8.4133e-04\n",
      "Epoch 45/100\n",
      "169/169 [==============================] - 43s 254ms/step - loss: 7.7477e-04\n",
      "Epoch 46/100\n",
      "169/169 [==============================] - 46s 270ms/step - loss: 7.9224e-04\n",
      "Epoch 47/100\n",
      "169/169 [==============================] - 56s 334ms/step - loss: 8.2701e-04\n",
      "Epoch 48/100\n",
      "169/169 [==============================] - 51s 299ms/step - loss: 7.8269e-04\n",
      "Epoch 49/100\n",
      "169/169 [==============================] - 57s 340ms/step - loss: 7.6011e-04\n",
      "Epoch 50/100\n",
      "169/169 [==============================] - 43s 252ms/step - loss: 7.5569e-04\n",
      "Epoch 51/100\n",
      "169/169 [==============================] - 44s 258ms/step - loss: 7.8066e-04\n",
      "Epoch 52/100\n",
      "169/169 [==============================] - 50s 295ms/step - loss: 7.4190e-04\n",
      "Epoch 53/100\n",
      "169/169 [==============================] - 40s 235ms/step - loss: 7.5100e-04\n",
      "Epoch 54/100\n",
      "169/169 [==============================] - 45s 266ms/step - loss: 7.5066e-04\n",
      "Epoch 55/100\n",
      "169/169 [==============================] - 47s 278ms/step - loss: 7.1032e-04\n",
      "Epoch 56/100\n",
      "169/169 [==============================] - 47s 276ms/step - loss: 7.3836e-04\n",
      "Epoch 57/100\n",
      "169/169 [==============================] - 44s 258ms/step - loss: 7.4503e-04\n",
      "Epoch 58/100\n",
      "169/169 [==============================] - 42s 251ms/step - loss: 7.3198e-04\n",
      "Epoch 59/100\n",
      "169/169 [==============================] - 50s 296ms/step - loss: 7.8438e-04\n",
      "Epoch 60/100\n",
      "169/169 [==============================] - 39s 231ms/step - loss: 6.9996e-04\n",
      "Epoch 61/100\n",
      "169/169 [==============================] - 41s 241ms/step - loss: 7.2256e-04\n",
      "Epoch 62/100\n",
      "169/169 [==============================] - 52s 311ms/step - loss: 7.0084e-04\n",
      "Epoch 63/100\n",
      "169/169 [==============================] - 50s 295ms/step - loss: 6.9932e-04\n",
      "Epoch 64/100\n",
      "169/169 [==============================] - 40s 239ms/step - loss: 7.2019e-04\n",
      "Epoch 65/100\n",
      "169/169 [==============================] - 53s 313ms/step - loss: 6.7290e-04\n",
      "Epoch 66/100\n",
      "169/169 [==============================] - 53s 314ms/step - loss: 6.9768e-04\n",
      "Epoch 67/100\n",
      "169/169 [==============================] - 45s 264ms/step - loss: 6.8168e-04\n",
      "Epoch 68/100\n",
      "169/169 [==============================] - 45s 268ms/step - loss: 6.9676e-04\n",
      "Epoch 69/100\n",
      "169/169 [==============================] - 42s 245ms/step - loss: 7.0898e-04\n",
      "Epoch 70/100\n",
      "169/169 [==============================] - 38s 222ms/step - loss: 6.8972e-04\n",
      "Epoch 71/100\n",
      "169/169 [==============================] - 39s 229ms/step - loss: 7.1358e-04\n",
      "Epoch 72/100\n",
      "169/169 [==============================] - 38s 225ms/step - loss: 7.2368e-04\n",
      "Epoch 73/100\n",
      "169/169 [==============================] - 40s 237ms/step - loss: 6.7631e-04\n",
      "Epoch 74/100\n",
      "169/169 [==============================] - 40s 235ms/step - loss: 6.5858e-04\n",
      "Epoch 75/100\n",
      "169/169 [==============================] - 40s 235ms/step - loss: 7.1199e-04\n",
      "Epoch 76/100\n",
      "169/169 [==============================] - 40s 235ms/step - loss: 7.2984e-04\n",
      "Epoch 77/100\n",
      "169/169 [==============================] - 39s 228ms/step - loss: 6.8931e-04\n",
      "Epoch 78/100\n",
      "169/169 [==============================] - 39s 230ms/step - loss: 6.6195e-04\n",
      "Epoch 79/100\n",
      "169/169 [==============================] - 39s 231ms/step - loss: 6.5967e-04\n",
      "Epoch 80/100\n",
      "169/169 [==============================] - 41s 242ms/step - loss: 6.8260e-04\n",
      "Epoch 81/100\n",
      "169/169 [==============================] - 40s 238ms/step - loss: 7.1008e-04\n",
      "Epoch 82/100\n",
      "169/169 [==============================] - 41s 241ms/step - loss: 7.1050e-04\n",
      "Epoch 83/100\n",
      "169/169 [==============================] - 40s 240ms/step - loss: 7.0784e-04\n",
      "Epoch 84/100\n",
      "169/169 [==============================] - 39s 231ms/step - loss: 6.6976e-04\n",
      "Epoch 85/100\n",
      "169/169 [==============================] - 39s 233ms/step - loss: 6.9297e-04\n",
      "Epoch 86/100\n",
      "169/169 [==============================] - 38s 222ms/step - loss: 6.5273e-04\n",
      "Epoch 87/100\n",
      "169/169 [==============================] - 38s 225ms/step - loss: 6.5858e-04\n",
      "Epoch 88/100\n",
      "169/169 [==============================] - 38s 225ms/step - loss: 6.6534e-04\n",
      "Epoch 89/100\n",
      "169/169 [==============================] - 38s 222ms/step - loss: 7.0066e-04\n",
      "Epoch 90/100\n",
      "169/169 [==============================] - 39s 231ms/step - loss: 6.4447e-04\n",
      "Epoch 91/100\n",
      "169/169 [==============================] - 37s 219ms/step - loss: 6.8598e-04\n",
      "Epoch 92/100\n",
      "169/169 [==============================] - 37s 218ms/step - loss: 6.4195e-04\n",
      "Epoch 93/100\n"
     ]
    },
    {
     "name": "stdout",
     "output_type": "stream",
     "text": [
      "169/169 [==============================] - 38s 224ms/step - loss: 6.9412e-04\n",
      "Epoch 94/100\n",
      "169/169 [==============================] - 38s 223ms/step - loss: 6.6936e-04\n",
      "Epoch 95/100\n",
      "169/169 [==============================] - 39s 231ms/step - loss: 6.3493e-04\n",
      "Epoch 96/100\n",
      "169/169 [==============================] - 38s 225ms/step - loss: 6.3750e-04\n",
      "Epoch 97/100\n",
      "169/169 [==============================] - 38s 224ms/step - loss: 6.6023e-04\n",
      "Epoch 98/100\n",
      "169/169 [==============================] - 38s 224ms/step - loss: 6.5155e-04\n",
      "Epoch 99/100\n",
      "169/169 [==============================] - 38s 224ms/step - loss: 6.7431e-04\n",
      "Epoch 100/100\n",
      "169/169 [==============================] - 36s 216ms/step - loss: 6.4521e-04\n"
     ]
    },
    {
     "data": {
      "text/plain": [
       "<keras.callbacks.History at 0x1e024f1da00>"
      ]
     },
     "execution_count": 5,
     "metadata": {},
     "output_type": "execute_result"
    }
   ],
   "source": [
    "model = Sequential()\n",
    "#Adding the first LSTM layer and some Dropout regularisation\n",
    "model.add(LSTM(units = 50, return_sequences = True, input_shape = (X_train.shape[1], 1)))\n",
    "model.add(Dropout(0.2))\n",
    "# Adding a second LSTM layer and some Dropout regularisation\n",
    "model.add(LSTM(units = 50, return_sequences = True))\n",
    "model.add(Dropout(0.2))\n",
    "# Adding a third LSTM layer and some Dropout regularisation\n",
    "model.add(LSTM(units = 50, return_sequences = True))\n",
    "model.add(Dropout(0.2))\n",
    "# Adding a fourth LSTM layer and some Dropout regularisation\n",
    "model.add(LSTM(units = 50))\n",
    "model.add(Dropout(0.2))\n",
    "# Adding the output layer\n",
    "model.add(Dense(units = 1))\n",
    "\n",
    "# Compiling the RNN\n",
    "model.compile(optimizer = 'adam', loss = 'mean_squared_error')\n",
    "\n",
    "# Fitting the RNN to the Training set\n",
    "model.fit(X_train, y_train, epochs = 100, batch_size = 32)"
   ]
  },
  {
   "cell_type": "code",
   "execution_count": 6,
   "id": "cca6fd4d",
   "metadata": {},
   "outputs": [
    {
     "name": "stdout",
     "output_type": "stream",
     "text": [
      "(2333, 60, 1)\n"
     ]
    },
    {
     "data": {
      "text/plain": [
       "(2333, 60, 1)"
      ]
     },
     "execution_count": 6,
     "metadata": {},
     "output_type": "execute_result"
    }
   ],
   "source": [
    "# Getting the predicted stock price of 2017\n",
    "dataset_train = df.iloc[:5446, 1:2]\n",
    "dataset_test = df.iloc[5446:, 1:2]\n",
    "dataset_total = pd.concat((dataset_train, dataset_test), axis = 0)\n",
    "inputs = dataset_total[len(dataset_total) - len(dataset_test) - 60:].values\n",
    "inputs = inputs.reshape(-1,1)\n",
    "inputs = sc.transform(inputs)\n",
    "X_test = []\n",
    "for i in range(60, 2393):\n",
    "    X_test.append(inputs[i-60:i, 0])\n",
    "X_test = np.array(X_test)\n",
    "X_test = np.reshape(X_test, (X_test.shape[0], X_test.shape[1], 1))\n",
    "print(X_test.shape)\n",
    "# (300, 60, 1)\n",
    "X_test.shape"
   ]
  },
  {
   "cell_type": "code",
   "execution_count": 7,
   "id": "6dcf8c44",
   "metadata": {},
   "outputs": [
    {
     "name": "stdout",
     "output_type": "stream",
     "text": [
      "73/73 [==============================] - 10s 62ms/step\n"
     ]
    }
   ],
   "source": [
    "predicted_stock_price = model.predict(X_test)\n",
    "predicted_stock_price = sc.inverse_transform(predicted_stock_price)"
   ]
  },
  {
   "cell_type": "code",
   "execution_count": 8,
   "id": "4bc8cf82",
   "metadata": {},
   "outputs": [
    {
     "data": {
      "image/png": "[encoded data removed]",
      "text/plain": [
       "<Figure size 640x480 with 1 Axes>"
      ]
     },
     "metadata": {},
     "output_type": "display_data"
    }
   ],
   "source": [
    "# Visualising the results\n",
    "plt.plot(df.loc[5446:, 'Unnamed: 0'],dataset_test.values, color = 'red', label = 'Real Microsoft Stock Price')\n",
    "plt.plot(df.loc[5446:, 'Unnamed: 0'],predicted_stock_price, color = 'blue', label = 'Predicted Microsoft Stock Price')\n",
    "plt.xticks(np.arange(0,459,50))\n",
    "plt.title('Microsoft Stock Price Prediction')\n",
    "plt.xlabel('Time')\n",
    "plt.ylabel('Microsoft Stock Price')\n",
    "plt.legend()\n",
    "plt.show()"
   ]
  },
  {
   "cell_type": "code",
   "execution_count": 9,
   "id": "a465ed73",
   "metadata": {},
   "outputs": [
    {
     "ename": "OSError",
     "evalue": "Cannot save file into a non-existent directory: 'C:\\Users\\kayra\\OneDrive\\Desktop\\Stonks 2022\\2022-2023-Stocks-Prediction\\Predictions'",
     "output_type": "error",
     "traceback": [
      "\u001b[1;31m---------------------------------------------------------------------------\u001b[0m",
      "\u001b[1;31mOSError\u001b[0m                                   Traceback (most recent call last)",
      "Input \u001b[1;32mIn [9]\u001b[0m, in \u001b[0;36m<cell line: 2>\u001b[1;34m()\u001b[0m\n\u001b[0;32m      1\u001b[0m predicted_prices_df \u001b[38;5;241m=\u001b[39mpd\u001b[38;5;241m.\u001b[39mDataFrame(predicted_stock_price, columns \u001b[38;5;241m=\u001b[39m [\u001b[38;5;124m'\u001b[39m\u001b[38;5;124mPrice\u001b[39m\u001b[38;5;124m'\u001b[39m])\n\u001b[1;32m----> 2\u001b[0m \u001b[43mpredicted_prices_df\u001b[49m\u001b[38;5;241;43m.\u001b[39;49m\u001b[43mto_csv\u001b[49m\u001b[43m \u001b[49m\u001b[43m(\u001b[49m\u001b[38;5;124;43mr\u001b[39;49m\u001b[38;5;124;43m'\u001b[39;49m\u001b[38;5;124;43mC:\u001b[39;49m\u001b[38;5;124;43m\\\u001b[39;49m\u001b[38;5;124;43mUsers\u001b[39;49m\u001b[38;5;124;43m\\\u001b[39;49m\u001b[38;5;124;43mkayra\u001b[39;49m\u001b[38;5;124;43m\\\u001b[39;49m\u001b[38;5;124;43mOneDrive\u001b[39;49m\u001b[38;5;124;43m\\\u001b[39;49m\u001b[38;5;124;43mDesktop\u001b[39;49m\u001b[38;5;124;43m\\\u001b[39;49m\u001b[38;5;124;43mStonks 2022\u001b[39;49m\u001b[38;5;124;43m\\\u001b[39;49m\u001b[38;5;124;43m2022-2023-Stocks-Prediction\u001b[39;49m\u001b[38;5;124;43m\\\u001b[39;49m\u001b[38;5;124;43mPredictions\u001b[39;49m\u001b[38;5;124;43m\\\u001b[39;49m\u001b[38;5;124;43mClose Price Prediction.csv\u001b[39;49m\u001b[38;5;124;43m'\u001b[39;49m\u001b[43m,\u001b[49m\u001b[43m \u001b[49m\u001b[43mindex\u001b[49m\u001b[43m \u001b[49m\u001b[38;5;241;43m=\u001b[39;49m\u001b[43m \u001b[49m\u001b[38;5;28;43;01mFalse\u001b[39;49;00m\u001b[43m,\u001b[49m\u001b[43m \u001b[49m\u001b[43mheader\u001b[49m\u001b[38;5;241;43m=\u001b[39;49m\u001b[38;5;28;43;01mTrue\u001b[39;49;00m\u001b[43m)\u001b[49m\n",
      "File \u001b[1;32m~\\anaconda3\\lib\\site-packages\\pandas\\core\\generic.py:3551\u001b[0m, in \u001b[0;36mNDFrame.to_csv\u001b[1;34m(self, path_or_buf, sep, na_rep, float_format, columns, header, index, index_label, mode, encoding, compression, quoting, quotechar, line_terminator, chunksize, date_format, doublequote, escapechar, decimal, errors, storage_options)\u001b[0m\n\u001b[0;32m   3540\u001b[0m df \u001b[38;5;241m=\u001b[39m \u001b[38;5;28mself\u001b[39m \u001b[38;5;28;01mif\u001b[39;00m \u001b[38;5;28misinstance\u001b[39m(\u001b[38;5;28mself\u001b[39m, ABCDataFrame) \u001b[38;5;28;01melse\u001b[39;00m \u001b[38;5;28mself\u001b[39m\u001b[38;5;241m.\u001b[39mto_frame()\n\u001b[0;32m   3542\u001b[0m formatter \u001b[38;5;241m=\u001b[39m DataFrameFormatter(\n\u001b[0;32m   3543\u001b[0m     frame\u001b[38;5;241m=\u001b[39mdf,\n\u001b[0;32m   3544\u001b[0m     header\u001b[38;5;241m=\u001b[39mheader,\n\u001b[1;32m   (...)\u001b[0m\n\u001b[0;32m   3548\u001b[0m     decimal\u001b[38;5;241m=\u001b[39mdecimal,\n\u001b[0;32m   3549\u001b[0m )\n\u001b[1;32m-> 3551\u001b[0m \u001b[38;5;28;01mreturn\u001b[39;00m \u001b[43mDataFrameRenderer\u001b[49m\u001b[43m(\u001b[49m\u001b[43mformatter\u001b[49m\u001b[43m)\u001b[49m\u001b[38;5;241;43m.\u001b[39;49m\u001b[43mto_csv\u001b[49m\u001b[43m(\u001b[49m\n\u001b[0;32m   3552\u001b[0m \u001b[43m    \u001b[49m\u001b[43mpath_or_buf\u001b[49m\u001b[43m,\u001b[49m\n\u001b[0;32m   3553\u001b[0m \u001b[43m    \u001b[49m\u001b[43mline_terminator\u001b[49m\u001b[38;5;241;43m=\u001b[39;49m\u001b[43mline_terminator\u001b[49m\u001b[43m,\u001b[49m\n\u001b[0;32m   3554\u001b[0m \u001b[43m    \u001b[49m\u001b[43msep\u001b[49m\u001b[38;5;241;43m=\u001b[39;49m\u001b[43msep\u001b[49m\u001b[43m,\u001b[49m\n\u001b[0;32m   3555\u001b[0m \u001b[43m    \u001b[49m\u001b[43mencoding\u001b[49m\u001b[38;5;241;43m=\u001b[39;49m\u001b[43mencoding\u001b[49m\u001b[43m,\u001b[49m\n\u001b[0;32m   3556\u001b[0m \u001b[43m    \u001b[49m\u001b[43merrors\u001b[49m\u001b[38;5;241;43m=\u001b[39;49m\u001b[43merrors\u001b[49m\u001b[43m,\u001b[49m\n\u001b[0;32m   3557\u001b[0m \u001b[43m    \u001b[49m\u001b[43mcompression\u001b[49m\u001b[38;5;241;43m=\u001b[39;49m\u001b[43mcompression\u001b[49m\u001b[43m,\u001b[49m\n\u001b[0;32m   3558\u001b[0m \u001b[43m    \u001b[49m\u001b[43mquoting\u001b[49m\u001b[38;5;241;43m=\u001b[39;49m\u001b[43mquoting\u001b[49m\u001b[43m,\u001b[49m\n\u001b[0;32m   3559\u001b[0m \u001b[43m    \u001b[49m\u001b[43mcolumns\u001b[49m\u001b[38;5;241;43m=\u001b[39;49m\u001b[43mcolumns\u001b[49m\u001b[43m,\u001b[49m\n\u001b[0;32m   3560\u001b[0m \u001b[43m    \u001b[49m\u001b[43mindex_label\u001b[49m\u001b[38;5;241;43m=\u001b[39;49m\u001b[43mindex_label\u001b[49m\u001b[43m,\u001b[49m\n\u001b[0;32m   3561\u001b[0m \u001b[43m    \u001b[49m\u001b[43mmode\u001b[49m\u001b[38;5;241;43m=\u001b[39;49m\u001b[43mmode\u001b[49m\u001b[43m,\u001b[49m\n\u001b[0;32m   3562\u001b[0m \u001b[43m    \u001b[49m\u001b[43mchunksize\u001b[49m\u001b[38;5;241;43m=\u001b[39;49m\u001b[43mchunksize\u001b[49m\u001b[43m,\u001b[49m\n\u001b[0;32m   3563\u001b[0m \u001b[43m    \u001b[49m\u001b[43mquotechar\u001b[49m\u001b[38;5;241;43m=\u001b[39;49m\u001b[43mquotechar\u001b[49m\u001b[43m,\u001b[49m\n\u001b[0;32m   3564\u001b[0m \u001b[43m    \u001b[49m\u001b[43mdate_format\u001b[49m\u001b[38;5;241;43m=\u001b[39;49m\u001b[43mdate_format\u001b[49m\u001b[43m,\u001b[49m\n\u001b[0;32m   3565\u001b[0m \u001b[43m    \u001b[49m\u001b[43mdoublequote\u001b[49m\u001b[38;5;241;43m=\u001b[39;49m\u001b[43mdoublequote\u001b[49m\u001b[43m,\u001b[49m\n\u001b[0;32m   3566\u001b[0m \u001b[43m    \u001b[49m\u001b[43mescapechar\u001b[49m\u001b[38;5;241;43m=\u001b[39;49m\u001b[43mescapechar\u001b[49m\u001b[43m,\u001b[49m\n\u001b[0;32m   3567\u001b[0m \u001b[43m    \u001b[49m\u001b[43mstorage_options\u001b[49m\u001b[38;5;241;43m=\u001b[39;49m\u001b[43mstorage_options\u001b[49m\u001b[43m,\u001b[49m\n\u001b[0;32m   3568\u001b[0m \u001b[43m\u001b[49m\u001b[43m)\u001b[49m\n",
      "File \u001b[1;32m~\\anaconda3\\lib\\site-packages\\pandas\\io\\formats\\format.py:1180\u001b[0m, in \u001b[0;36mDataFrameRenderer.to_csv\u001b[1;34m(self, path_or_buf, encoding, sep, columns, index_label, mode, compression, quoting, quotechar, line_terminator, chunksize, date_format, doublequote, escapechar, errors, storage_options)\u001b[0m\n\u001b[0;32m   1159\u001b[0m     created_buffer \u001b[38;5;241m=\u001b[39m \u001b[38;5;28;01mFalse\u001b[39;00m\n\u001b[0;32m   1161\u001b[0m csv_formatter \u001b[38;5;241m=\u001b[39m CSVFormatter(\n\u001b[0;32m   1162\u001b[0m     path_or_buf\u001b[38;5;241m=\u001b[39mpath_or_buf,\n\u001b[0;32m   1163\u001b[0m     line_terminator\u001b[38;5;241m=\u001b[39mline_terminator,\n\u001b[1;32m   (...)\u001b[0m\n\u001b[0;32m   1178\u001b[0m     formatter\u001b[38;5;241m=\u001b[39m\u001b[38;5;28mself\u001b[39m\u001b[38;5;241m.\u001b[39mfmt,\n\u001b[0;32m   1179\u001b[0m )\n\u001b[1;32m-> 1180\u001b[0m \u001b[43mcsv_formatter\u001b[49m\u001b[38;5;241;43m.\u001b[39;49m\u001b[43msave\u001b[49m\u001b[43m(\u001b[49m\u001b[43m)\u001b[49m\n\u001b[0;32m   1182\u001b[0m \u001b[38;5;28;01mif\u001b[39;00m created_buffer:\n\u001b[0;32m   1183\u001b[0m     \u001b[38;5;28;01massert\u001b[39;00m \u001b[38;5;28misinstance\u001b[39m(path_or_buf, StringIO)\n",
      "File \u001b[1;32m~\\anaconda3\\lib\\site-packages\\pandas\\io\\formats\\csvs.py:241\u001b[0m, in \u001b[0;36mCSVFormatter.save\u001b[1;34m(self)\u001b[0m\n\u001b[0;32m    237\u001b[0m \u001b[38;5;124;03m\"\"\"\u001b[39;00m\n\u001b[0;32m    238\u001b[0m \u001b[38;5;124;03mCreate the writer & save.\u001b[39;00m\n\u001b[0;32m    239\u001b[0m \u001b[38;5;124;03m\"\"\"\u001b[39;00m\n\u001b[0;32m    240\u001b[0m \u001b[38;5;66;03m# apply compression and byte/text conversion\u001b[39;00m\n\u001b[1;32m--> 241\u001b[0m \u001b[38;5;28;01mwith\u001b[39;00m \u001b[43mget_handle\u001b[49m\u001b[43m(\u001b[49m\n\u001b[0;32m    242\u001b[0m \u001b[43m    \u001b[49m\u001b[38;5;28;43mself\u001b[39;49m\u001b[38;5;241;43m.\u001b[39;49m\u001b[43mfilepath_or_buffer\u001b[49m\u001b[43m,\u001b[49m\n\u001b[0;32m    243\u001b[0m \u001b[43m    \u001b[49m\u001b[38;5;28;43mself\u001b[39;49m\u001b[38;5;241;43m.\u001b[39;49m\u001b[43mmode\u001b[49m\u001b[43m,\u001b[49m\n\u001b[0;32m    244\u001b[0m \u001b[43m    \u001b[49m\u001b[43mencoding\u001b[49m\u001b[38;5;241;43m=\u001b[39;49m\u001b[38;5;28;43mself\u001b[39;49m\u001b[38;5;241;43m.\u001b[39;49m\u001b[43mencoding\u001b[49m\u001b[43m,\u001b[49m\n\u001b[0;32m    245\u001b[0m \u001b[43m    \u001b[49m\u001b[43merrors\u001b[49m\u001b[38;5;241;43m=\u001b[39;49m\u001b[38;5;28;43mself\u001b[39;49m\u001b[38;5;241;43m.\u001b[39;49m\u001b[43merrors\u001b[49m\u001b[43m,\u001b[49m\n\u001b[0;32m    246\u001b[0m \u001b[43m    \u001b[49m\u001b[43mcompression\u001b[49m\u001b[38;5;241;43m=\u001b[39;49m\u001b[38;5;28;43mself\u001b[39;49m\u001b[38;5;241;43m.\u001b[39;49m\u001b[43mcompression\u001b[49m\u001b[43m,\u001b[49m\n\u001b[0;32m    247\u001b[0m \u001b[43m    \u001b[49m\u001b[43mstorage_options\u001b[49m\u001b[38;5;241;43m=\u001b[39;49m\u001b[38;5;28;43mself\u001b[39;49m\u001b[38;5;241;43m.\u001b[39;49m\u001b[43mstorage_options\u001b[49m\u001b[43m,\u001b[49m\n\u001b[0;32m    248\u001b[0m \u001b[43m\u001b[49m\u001b[43m)\u001b[49m \u001b[38;5;28;01mas\u001b[39;00m handles:\n\u001b[0;32m    249\u001b[0m \n\u001b[0;32m    250\u001b[0m     \u001b[38;5;66;03m# Note: self.encoding is irrelevant here\u001b[39;00m\n\u001b[0;32m    251\u001b[0m     \u001b[38;5;28mself\u001b[39m\u001b[38;5;241m.\u001b[39mwriter \u001b[38;5;241m=\u001b[39m csvlib\u001b[38;5;241m.\u001b[39mwriter(\n\u001b[0;32m    252\u001b[0m         handles\u001b[38;5;241m.\u001b[39mhandle,\n\u001b[0;32m    253\u001b[0m         lineterminator\u001b[38;5;241m=\u001b[39m\u001b[38;5;28mself\u001b[39m\u001b[38;5;241m.\u001b[39mline_terminator,\n\u001b[1;32m   (...)\u001b[0m\n\u001b[0;32m    258\u001b[0m         quotechar\u001b[38;5;241m=\u001b[39m\u001b[38;5;28mself\u001b[39m\u001b[38;5;241m.\u001b[39mquotechar,\n\u001b[0;32m    259\u001b[0m     )\n\u001b[0;32m    261\u001b[0m     \u001b[38;5;28mself\u001b[39m\u001b[38;5;241m.\u001b[39m_save()\n",
      "File \u001b[1;32m~\\anaconda3\\lib\\site-packages\\pandas\\io\\common.py:694\u001b[0m, in \u001b[0;36mget_handle\u001b[1;34m(path_or_buf, mode, encoding, compression, memory_map, is_text, errors, storage_options)\u001b[0m\n\u001b[0;32m    692\u001b[0m \u001b[38;5;66;03m# Only for write methods\u001b[39;00m\n\u001b[0;32m    693\u001b[0m \u001b[38;5;28;01mif\u001b[39;00m \u001b[38;5;124m\"\u001b[39m\u001b[38;5;124mr\u001b[39m\u001b[38;5;124m\"\u001b[39m \u001b[38;5;129;01mnot\u001b[39;00m \u001b[38;5;129;01min\u001b[39;00m mode \u001b[38;5;129;01mand\u001b[39;00m is_path:\n\u001b[1;32m--> 694\u001b[0m     \u001b[43mcheck_parent_directory\u001b[49m\u001b[43m(\u001b[49m\u001b[38;5;28;43mstr\u001b[39;49m\u001b[43m(\u001b[49m\u001b[43mhandle\u001b[49m\u001b[43m)\u001b[49m\u001b[43m)\u001b[49m\n\u001b[0;32m    696\u001b[0m \u001b[38;5;28;01mif\u001b[39;00m compression:\n\u001b[0;32m    697\u001b[0m     \u001b[38;5;28;01mif\u001b[39;00m compression \u001b[38;5;241m!=\u001b[39m \u001b[38;5;124m\"\u001b[39m\u001b[38;5;124mzstd\u001b[39m\u001b[38;5;124m\"\u001b[39m:\n\u001b[0;32m    698\u001b[0m         \u001b[38;5;66;03m# compression libraries do not like an explicit text-mode\u001b[39;00m\n",
      "File \u001b[1;32m~\\anaconda3\\lib\\site-packages\\pandas\\io\\common.py:568\u001b[0m, in \u001b[0;36mcheck_parent_directory\u001b[1;34m(path)\u001b[0m\n\u001b[0;32m    566\u001b[0m parent \u001b[38;5;241m=\u001b[39m Path(path)\u001b[38;5;241m.\u001b[39mparent\n\u001b[0;32m    567\u001b[0m \u001b[38;5;28;01mif\u001b[39;00m \u001b[38;5;129;01mnot\u001b[39;00m parent\u001b[38;5;241m.\u001b[39mis_dir():\n\u001b[1;32m--> 568\u001b[0m     \u001b[38;5;28;01mraise\u001b[39;00m \u001b[38;5;167;01mOSError\u001b[39;00m(\u001b[38;5;124mrf\u001b[39m\u001b[38;5;124m\"\u001b[39m\u001b[38;5;124mCannot save file into a non-existent directory: \u001b[39m\u001b[38;5;124m'\u001b[39m\u001b[38;5;132;01m{\u001b[39;00mparent\u001b[38;5;132;01m}\u001b[39;00m\u001b[38;5;124m'\u001b[39m\u001b[38;5;124m\"\u001b[39m)\n",
      "\u001b[1;31mOSError\u001b[0m: Cannot save file into a non-existent directory: 'C:\\Users\\kayra\\OneDrive\\Desktop\\Stonks 2022\\2022-2023-Stocks-Prediction\\Predictions'"
     ]
    }
   ],
   "source": [
    "predicted_prices_df =pd.DataFrame(predicted_stock_price, columns = ['Price'])\n",
    "predicted_prices_df.to_csv (r'C:\\Users\\kayra\\OneDrive\\Desktop\\Stonks 2022\\2022-2023-Stocks-Prediction\\Predictions\\Close Price Prediction.csv', index = False, header=True)"
   ]
  },
  {
   "cell_type": "code",
   "execution_count": null,
   "id": "e8327c04",
   "metadata": {},
   "outputs": [],
   "source": []
  }
 ],
 "metadata": {
  "kernelspec": {
   "display_name": "Python 3 (ipykernel)",
   "language": "python",
   "name": "python3"
  },
  "language_info": {
   "codemirror_mode": {
    "name": "ipython",
    "version": 3
   },
   "file_extension": ".py",
   "mimetype": "text/x-python",
   "name": "python",
   "nbconvert_exporter": "python",
   "pygments_lexer": "ipython3",
   "version": "3.9.12"
  }
 },
 "nbformat": 4,
 "nbformat_minor": 5
}
